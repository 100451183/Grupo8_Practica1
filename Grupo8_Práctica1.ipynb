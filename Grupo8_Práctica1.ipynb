{
  "cells": [
    {
      "cell_type": "markdown",
      "metadata": {
        "id": "view-in-github",
        "colab_type": "text"
      },
      "source": [
        "<a href=\"https://colab.research.google.com/github/100451183/Grupo8_Practica1/blob/main/Grupo8_Pr%C3%A1ctica1.ipynb\" target=\"_parent\"><img src=\"https://colab.research.google.com/assets/colab-badge.svg\" alt=\"Open In Colab\"/></a>"
      ]
    },
    {
      "cell_type": "code",
      "execution_count": null,
      "metadata": {
        "id": "_MRAiMUVdSvk"
      },
      "outputs": [],
      "source": [
        "from google.colab import drive\n",
        "drive.mount('/content/gdrive')"
      ]
    },
    {
      "cell_type": "code",
      "execution_count": null,
      "metadata": {
        "id": "zleGuPzvdTqU"
      },
      "outputs": [],
      "source": [
        "import os\n",
        "os.chdir(\"/content/gdrive/MyDrive/Práctica 1 AA\")"
      ]
    },
    {
      "cell_type": "code",
      "execution_count": null,
      "metadata": {
        "id": "9h10swOvdbEA"
      },
      "outputs": [],
      "source": [
        "import pandas\n",
        "#Primero se leen los datos\n",
        "disp_df = pandas.read_csv(\"disp_st8ns1.txt.bz2\", compression=\"bz2\", index_col=0)\n",
        "print(disp_df)"
      ]
    },
    {
      "cell_type": "markdown",
      "metadata": {
        "id": "YbRMLj4B8xVQ"
      },
      "source": [
        "###3) Análisis exploratorio de datos"
      ]
    },
    {
      "cell_type": "code",
      "execution_count": null,
      "metadata": {
        "id": "npZfdGFo81mm"
      },
      "outputs": [],
      "source": [
        "import numpy as np\n",
        "import pandas as pd\n",
        "import seaborn as sns\n",
        "import matplotlib.pyplot as plt"
      ]
    },
    {
      "cell_type": "code",
      "execution_count": null,
      "metadata": {
        "id": "REpqh3WGW7r9"
      },
      "outputs": [],
      "source": [
        "# Se muestra el contenido del dataframe\n",
        "disp_df.info()"
      ]
    },
    {
      "cell_type": "code",
      "execution_count": null,
      "metadata": {
        "id": "_gL3i0dVVfjr"
      },
      "outputs": [],
      "source": [
        "# Se visualiza una muestra aleatoria de los datos\n",
        "print(disp_df.sample(6))"
      ]
    },
    {
      "cell_type": "code",
      "execution_count": null,
      "metadata": {
        "id": "UJVU40JFX2Ui"
      },
      "outputs": [],
      "source": [
        "# Se visualizan los 9 primeros registros de datos\n",
        "print(disp_df.head(9))"
      ]
    },
    {
      "cell_type": "code",
      "execution_count": null,
      "metadata": {
        "id": "Cgn-9tRcWBpg"
      },
      "outputs": [],
      "source": [
        "# Número de filas y columnas del conjunto de datos\n",
        "print(disp_df.shape)\n",
        "\n",
        "# Tipos de las variables\n",
        "print(disp_df.dtypes)"
      ]
    },
    {
      "cell_type": "code",
      "execution_count": null,
      "metadata": {
        "id": "DzD4aZX8YqMh"
      },
      "outputs": [],
      "source": [
        "# Observar valores nulos. En esta primera sentencia se observan en una tabla\n",
        "# valores booleanos que especifican si ese campo es nulo.\n",
        "print(disp_df.isnull())\n",
        "\n",
        "# Se contabilizan los valores nulos.\n",
        "print(disp_df.isnull().sum())"
      ]
    },
    {
      "cell_type": "code",
      "execution_count": null,
      "metadata": {
        "id": "F6X71ccun5Gp"
      },
      "outputs": [],
      "source": [
        "print(disp_df.value_counts())"
      ]
    },
    {
      "cell_type": "code",
      "execution_count": null,
      "metadata": {
        "id": "Z23sn7Sc9v2p"
      },
      "outputs": [],
      "source": [
        "disp_df.describe()"
      ]
    },
    {
      "cell_type": "markdown",
      "metadata": {
        "id": "kxqlyCSLluWe"
      },
      "source": [
        "##4) Métodos básicos"
      ]
    },
    {
      "cell_type": "markdown",
      "source": [
        "## Árbol de decisión"
      ],
      "metadata": {
        "id": "rfw65W312R3c"
      }
    },
    {
      "cell_type": "code",
      "source": [
        "from sklearn import tree\n",
        "\n",
        "# Conjuntos de entrenamiento y prueba\n",
        "X = disp_df.select_dtypes(include=np.number).columns.tolist()\n",
        "y = [\"salida\"]\n",
        "X_train, X_test = np.array_split(disp_df[X], [3650])\n",
        "y_train, y_test = np.array_split(disp_df[y], [3650])\n",
        "\n",
        "train_indices = np.full((2920,), -1, dtype=int)\n",
        "\n",
        "val_indices = np.full((730,), 0, dtype=int)\n",
        "test_fold = np.append(train_indices, val_indices)\n",
        "# Definimos el modelo\n",
        "clf = tree.DecisionTreeClassifier()\n",
        "# Permitir que los resultados sean reproducibles\n",
        "np.random.seed(42)\n",
        "# Entrenamos el modelo\n",
        "clf.fit(X_train, y_train)\n",
        "# We can see that the tree is inside\n",
        "print(tree.export_text(clf))"
      ],
      "metadata": {
        "id": "5P7VrU0J2VOj"
      },
      "execution_count": null,
      "outputs": []
    },
    {
      "cell_type": "markdown",
      "source": [
        "## KNN"
      ],
      "metadata": {
        "id": "pfuYUw-oznI9"
      }
    },
    {
      "cell_type": "code",
      "source": [
        "import numpy as np\n",
        "import pandas as pd\n",
        "import time\n",
        "from sklearn.metrics import mean_absolute_error\n",
        "from sklearn.neighbors import KNeighborsRegressor\n",
        "from sklearn.metrics import mean_squared_error\n",
        "from sklearn.model_selection import train_test_split, cross_val_score, GridSearchCV\n",
        "from sklearn.model_selection import KFold\n",
        "\n",
        "# Conjuntos de entrenamiento y prueba\n",
        "X = disp_df.select_dtypes(include=np.number).columns.tolist()\n",
        "y = [\"salida\"]\n",
        "X_train, X_test = np.array_split(disp_df[X], [3650])\n",
        "y_train, y_test = np.array_split(disp_df[y], [3650])\n",
        "\n",
        "train_indices = np.full((2920,), -1, dtype=int)\n",
        "\n",
        "val_indices = np.full((730,), 0, dtype=int)\n",
        "test_fold = np.append(train_indices, val_indices)\n",
        "\n",
        "# KNN\n",
        "knn = KNeighborsRegressor(n_neighbors=3)\n",
        "start_time = time.time()\n",
        "knn.fit(X_train, y_train)\n",
        "end_time = time.time()\n",
        "\n",
        "y_pred = knn.predict(X_test)\n",
        "mse = mean_squared_error(y_test, y_pred)\n",
        "rmse = np.sqrt(mse)\n",
        "mae = mean_absolute_error(y_test, y_pred)\n",
        "tiempo_entrenamiento = end_time - start_time\n",
        "\n",
        "#Hacer la evaluación en  RMSE y MAE también.\n",
        "param_grid = {'n_neighbors': np.arange(1, 21)}\n",
        "\n",
        "inner = KFold(n_splits=3, shuffle=True, random_state=42)\n",
        "       \n",
        "grid_search = GridSearchCV(KNeighborsRegressor(), \n",
        "                   param_grid,\n",
        "                   scoring='neg_mean_squared_error',\n",
        "                   cv=inner, \n",
        "                   n_jobs=1, verbose=1)\n",
        "np.random.seed(42)\n",
        "grid_search.fit(X_train, y_train)\n",
        "print('Mejores hiperparámetros:', grid_search.best_params_)\n",
        "print('Mejor puntuación de validación cruzada:', -grid_search.best_score_)\n",
        "\n",
        "print(\"Error cuadrático medio (MSE):\", mse)\n",
        "print(\"Raíz cuadrada del error cuadrático medio (RMSE):\", rmse)\n",
        "print(\"Mean Absolute Error:\", mae)\n",
        "print(\"Tiempo de entrenamiento:\", tiempo_entrenamiento)"
      ],
      "metadata": {
        "id": "8RxZuMaKzrLw",
        "colab": {
          "base_uri": "https://localhost:8080/"
        },
        "outputId": "00d8548f-1ee3-4d26-e672-75e2dbd7220d"
      },
      "execution_count": 14,
      "outputs": [
        {
          "output_type": "stream",
          "name": "stdout",
          "text": [
            "Fitting 3 folds for each of 20 candidates, totalling 60 fits\n",
            "Mejores hiperparámetros: {'n_neighbors': 1}\n",
            "Mejor puntuación de validación cruzada: 141847578.6645007\n",
            "Error cuadrático medio (MSE): 593906750.3342465\n",
            "Raíz cuadrada del error cuadrático medio (RMSE): 24370.202098756723\n",
            "Mean Absolute Error: 5090.92602739726\n",
            "Tiempo de entrenamiento: 0.0030002593994140625\n"
          ]
        }
      ]
    },
    {
      "cell_type": "markdown",
      "metadata": {
        "id": "Z9bRzIh9mNM5"
      },
      "source": [
        "## Árbol de regresión"
      ]
    },
    {
      "cell_type": "code",
      "execution_count": 15,
      "metadata": {
        "id": "Ri0WQ5ipw48n",
        "colab": {
          "base_uri": "https://localhost:8080/"
        },
        "outputId": "04bda9f0-49b1-49ea-a71c-0895f1a08731"
      },
      "outputs": [
        {
          "output_type": "stream",
          "name": "stdout",
          "text": [
            "Error cuadrático medio (MSE): 1006625684.5150685\n",
            "Raíz cuadrada del error cuadrático medio (RMSE): 31727.364916032162\n",
            "Mean Absolute Error: 14855.243835616438\n",
            "Tiempo de entrenamiento: 0.21444416046142578\n"
          ]
        }
      ],
      "source": [
        "from sklearn.tree import DecisionTreeRegressor\n",
        "from sklearn.metrics import mean_squared_error\n",
        "from sklearn.metrics import mean_absolute_error\n",
        "from sklearn import tree\n",
        "import time\n",
        "\n",
        "# Conjuntos de entrenamiento y prueba\n",
        "X = disp_df.select_dtypes(include=np.number).columns.tolist()\n",
        "y = [\"salida\"]\n",
        "X_train, X_test = np.array_split(disp_df[X], [3650])\n",
        "y_train, y_test = np.array_split(disp_df[y], [3650])\n",
        "\n",
        "train_indices = np.full((2920,), -1, dtype=int)\n",
        "\n",
        "val_indices = np.full((730,), 0, dtype=int)\n",
        "test_fold = np.append(train_indices, val_indices)\n",
        "\n",
        "\n",
        "# Árbol de regresión \n",
        "regressor = DecisionTreeRegressor()\n",
        "start_time = time.time()\n",
        "regressor.fit(X_train, y_train)\n",
        "end_time = time.time()\n",
        "\n",
        "# Se calculan las predicciones del modelo de árbol de regresión\n",
        "y_pred = regressor.predict(X_test)\n",
        "mse = mean_squared_error(y_test, y_pred)\n",
        "rmse = np.sqrt(mse)\n",
        "mae = mean_absolute_error(y_test, y_pred)\n",
        "tiempo_entrenamiento = end_time - start_time\n",
        "\n",
        "\n",
        "print(\"Error cuadrático medio (MSE):\", mse)\n",
        "print(\"Raíz cuadrada del error cuadrático medio (RMSE):\", rmse)\n",
        "print(\"Mean Absolute Error:\", mae)\n",
        "print(\"Tiempo de entrenamiento:\", tiempo_entrenamiento)"
      ]
    },
    {
      "cell_type": "markdown",
      "source": [
        "# 5) Dimensionalidad del problema"
      ],
      "metadata": {
        "id": "Z4Mcwb6CvqtS"
      }
    },
    {
      "cell_type": "markdown",
      "source": [
        "# 6) Métodos avanzados"
      ],
      "metadata": {
        "id": "EkbDeGzJv6--"
      }
    },
    {
      "cell_type": "markdown",
      "source": [
        "##SVM"
      ],
      "metadata": {
        "id": "BsRYzQ7Zx3j1"
      }
    },
    {
      "cell_type": "markdown",
      "source": [
        "### SVM lineal"
      ],
      "metadata": {
        "id": "zxcsxPmY2wwL"
      }
    },
    {
      "cell_type": "code",
      "source": [
        "from sklearn.svm import LinearSVC\n",
        "from sklearn.metrics import accuracy_score\n",
        "from sklearn.datasets import make_classification\n",
        "from sklearn.model_selection import train_test_split\n",
        "\n",
        "# Conjuntos de entrenamiento y prueba\n",
        "X = disp_df.select_dtypes(include=np.number).columns.tolist()\n",
        "y = [\"salida\"]\n",
        "X_train, X_test = np.array_split(disp_df[X], [3650])\n",
        "y_train, y_test = np.array_split(disp_df[y], [3650])\n",
        "\n",
        "train_indices = np.full((2920,), -1, dtype=int)\n",
        "\n",
        "val_indices = np.full((730,), 0, dtype=int)\n",
        "test_fold = np.append(train_indices, val_indices)\n",
        "\n",
        "# Creamos el modelo SVM lineal y lo ajustamos a los datos de entrenamiento\n",
        "svm = LinearSVC()\n",
        "svm.fit(X_train, y_train)\n",
        "\n",
        "# Realizamos predicciones sobre los datos de prueba\n",
        "y_pred = svm.predict(X_test)\n",
        "\n",
        "# Calculamos la precisión del modelo\n",
        "accuracy = accuracy_score(y_test, y_pred)\n",
        "print(\"Precisión del modelo:\", accuracy)"
      ],
      "metadata": {
        "id": "XIKzQom53VCH",
        "colab": {
          "base_uri": "https://localhost:8080/"
        },
        "outputId": "0890d1ba-6c65-4802-8b76-3a0971823566"
      },
      "execution_count": 16,
      "outputs": [
        {
          "output_type": "stream",
          "name": "stderr",
          "text": [
            "/usr/local/lib/python3.9/dist-packages/sklearn/utils/validation.py:1143: DataConversionWarning: A column-vector y was passed when a 1d array was expected. Please change the shape of y to (n_samples, ), for example using ravel().\n",
            "  y = column_or_1d(y, warn=True)\n"
          ]
        },
        {
          "output_type": "stream",
          "name": "stdout",
          "text": [
            "Precisión del modelo: 0.0\n"
          ]
        },
        {
          "output_type": "stream",
          "name": "stderr",
          "text": [
            "/usr/local/lib/python3.9/dist-packages/sklearn/svm/_base.py:1244: ConvergenceWarning: Liblinear failed to converge, increase the number of iterations.\n",
            "  warnings.warn(\n"
          ]
        }
      ]
    },
    {
      "cell_type": "markdown",
      "source": [
        "### SVM radial"
      ],
      "metadata": {
        "id": "iAm1PNb2ywrP"
      }
    },
    {
      "cell_type": "code",
      "source": [
        "# Hacer grisearch con los hiperparámetros (futuro)\n",
        "from sklearn.svm import SVR\n",
        "from sklearn.metrics import mean_squared_error\n",
        "\n",
        "# Conjuntos de entrenamiento y prueba\n",
        "X = disp_df.select_dtypes(include=np.number).columns.tolist()\n",
        "y = [\"salida\"]\n",
        "X_train, X_test = np.array_split(disp_df[X], [3650])\n",
        "y_train, y_test = np.array_split(disp_df[y], [3650])\n",
        "\n",
        "train_indices = np.full((2920,), -1, dtype=int)\n",
        "\n",
        "val_indices = np.full((730,), 0, dtype=int)\n",
        "test_fold = np.append(train_indices, val_indices)\n",
        "\n",
        "# Crear un objeto SVR y ajustar el modelo a los datos de entrenamiento\n",
        "svm = SVR(kernel='rbf')\n",
        "start_time = time.time()\n",
        "svm.fit(X_train, y_train)\n",
        "end_time = time.time()\n",
        "\n",
        "# Predicciones sobre los datos de prueba y calcular el MSE\n",
        "y_pred = svm.predict(X_test)\n",
        "mse = mean_squared_error(y_test, y_pred)\n",
        "rmse = np.sqrt(mse)\n",
        "mae = mean_absolute_error(y_test, y_pred)\n",
        "tiempo_entrenamiento = end_time - start_time\n",
        "\n",
        "print(\"Error cuadrático medio (MSE):\", mse)\n",
        "print(\"Raíz cuadrada del error cuadrático medio (RMSE):\", rmse)\n",
        "print(\"Mean Absolute Error:\", mae)\n",
        "print(\"Tiempo de entrenamiento:\", tiempo_entrenamiento)"
      ],
      "metadata": {
        "id": "qN7QeAOgyG3O"
      },
      "execution_count": null,
      "outputs": []
    },
    {
      "cell_type": "markdown",
      "source": [
        "##Random forests"
      ],
      "metadata": {
        "id": "2_eKPrfW1V8A"
      }
    },
    {
      "cell_type": "code",
      "source": [
        "from sklearn.ensemble import RandomForestRegressor, ExtraTreesRegressor\n",
        "from sklearn import metrics\n",
        "# Conjuntos de entrenamiento y prueba\n",
        "X = disp_df.select_dtypes(include=np.number).columns.tolist()\n",
        "y = [\"salida\"]\n",
        "X_train, X_test = np.array_split(disp_df[X], [3650])\n",
        "y_train, y_test = np.array_split(disp_df[y], [3650])\n",
        "\n",
        "train_indices = np.full((2920,), -1, dtype=int)\n",
        "\n",
        "val_indices = np.full((730,), 0, dtype=int)\n",
        "test_fold = np.append(train_indices, val_indices)\n",
        "regr_rf = RandomForestRegressor(\n",
        "            n_estimators = 10,\n",
        "            max_depth    = None,\n",
        "            max_features = 1.0,\n",
        "            oob_score    = False,\n",
        "            n_jobs       = -1,\n",
        "            random_state = 42\n",
        "         )\n",
        "\n",
        "# Entrenamiento del modelo\n",
        "# ==============================================================================\n",
        "regr_rf.fit(X_train, y_train)\n",
        "print(f\"RMSE de RF: {rmse(y_test, regr_rf.predict(X=X_test))}\")"
      ],
      "metadata": {
        "id": "RcX8MJgh1bbv",
        "colab": {
          "base_uri": "https://localhost:8080/",
          "height": 452
        },
        "outputId": "8cb0f30e-a7f5-488b-c66a-f7700f17e111"
      },
      "execution_count": 18,
      "outputs": [
        {
          "ename": "NameError",
          "evalue": "ignored",
          "output_type": "error",
          "traceback": [
            "\u001b[0;31m---------------------------------------------------------------------------\u001b[0m",
            "\u001b[0;31mNameError\u001b[0m                                 Traceback (most recent call last)",
            "\u001b[0;32m<ipython-input-18-7fbb80ef298d>\u001b[0m in \u001b[0;36m<module>\u001b[0;34m\u001b[0m\n\u001b[1;32m      9\u001b[0m \u001b[0mval_indices\u001b[0m \u001b[0;34m=\u001b[0m \u001b[0mnp\u001b[0m\u001b[0;34m.\u001b[0m\u001b[0mfull\u001b[0m\u001b[0;34m(\u001b[0m\u001b[0;34m(\u001b[0m\u001b[0;36m730\u001b[0m\u001b[0;34m,\u001b[0m\u001b[0;34m)\u001b[0m\u001b[0;34m,\u001b[0m \u001b[0;36m0\u001b[0m\u001b[0;34m,\u001b[0m \u001b[0mdtype\u001b[0m\u001b[0;34m=\u001b[0m\u001b[0mint\u001b[0m\u001b[0;34m)\u001b[0m\u001b[0;34m\u001b[0m\u001b[0;34m\u001b[0m\u001b[0m\n\u001b[1;32m     10\u001b[0m \u001b[0mtest_fold\u001b[0m \u001b[0;34m=\u001b[0m \u001b[0mnp\u001b[0m\u001b[0;34m.\u001b[0m\u001b[0mappend\u001b[0m\u001b[0;34m(\u001b[0m\u001b[0mtrain_indices\u001b[0m\u001b[0;34m,\u001b[0m \u001b[0mval_indices\u001b[0m\u001b[0;34m)\u001b[0m\u001b[0;34m\u001b[0m\u001b[0;34m\u001b[0m\u001b[0m\n\u001b[0;32m---> 11\u001b[0;31m regr_rf = RandomForestRegressor(\n\u001b[0m\u001b[1;32m     12\u001b[0m             \u001b[0mn_estimators\u001b[0m \u001b[0;34m=\u001b[0m \u001b[0;36m10\u001b[0m\u001b[0;34m,\u001b[0m\u001b[0;34m\u001b[0m\u001b[0;34m\u001b[0m\u001b[0m\n\u001b[1;32m     13\u001b[0m             \u001b[0mmax_depth\u001b[0m    \u001b[0;34m=\u001b[0m \u001b[0;32mNone\u001b[0m\u001b[0;34m,\u001b[0m\u001b[0;34m\u001b[0m\u001b[0;34m\u001b[0m\u001b[0m\n",
            "\u001b[0;31mNameError\u001b[0m: name 'RandomForestRegressor' is not defined"
          ]
        },
        {
          "output_type": "error",
          "ename": "NameError",
          "evalue": "ignored",
          "traceback": [
            "\u001b[0;31m---------------------------------------------------------------------------\u001b[0m",
            "\u001b[0;31mNameError\u001b[0m                                 Traceback (most recent call last)",
            "\u001b[0;32m<ipython-input-18-7fbb80ef298d>\u001b[0m in \u001b[0;36m<module>\u001b[0;34m\u001b[0m\n\u001b[1;32m      9\u001b[0m \u001b[0mval_indices\u001b[0m \u001b[0;34m=\u001b[0m \u001b[0mnp\u001b[0m\u001b[0;34m.\u001b[0m\u001b[0mfull\u001b[0m\u001b[0;34m(\u001b[0m\u001b[0;34m(\u001b[0m\u001b[0;36m730\u001b[0m\u001b[0;34m,\u001b[0m\u001b[0;34m)\u001b[0m\u001b[0;34m,\u001b[0m \u001b[0;36m0\u001b[0m\u001b[0;34m,\u001b[0m \u001b[0mdtype\u001b[0m\u001b[0;34m=\u001b[0m\u001b[0mint\u001b[0m\u001b[0;34m)\u001b[0m\u001b[0;34m\u001b[0m\u001b[0;34m\u001b[0m\u001b[0m\n\u001b[1;32m     10\u001b[0m \u001b[0mtest_fold\u001b[0m \u001b[0;34m=\u001b[0m \u001b[0mnp\u001b[0m\u001b[0;34m.\u001b[0m\u001b[0mappend\u001b[0m\u001b[0;34m(\u001b[0m\u001b[0mtrain_indices\u001b[0m\u001b[0;34m,\u001b[0m \u001b[0mval_indices\u001b[0m\u001b[0;34m)\u001b[0m\u001b[0;34m\u001b[0m\u001b[0;34m\u001b[0m\u001b[0m\n\u001b[0;32m---> 11\u001b[0;31m regr_rf = RandomForestRegressor(\n\u001b[0m\u001b[1;32m     12\u001b[0m             \u001b[0mn_estimators\u001b[0m \u001b[0;34m=\u001b[0m \u001b[0;36m10\u001b[0m\u001b[0;34m,\u001b[0m\u001b[0;34m\u001b[0m\u001b[0;34m\u001b[0m\u001b[0m\n\u001b[1;32m     13\u001b[0m             \u001b[0mmax_depth\u001b[0m    \u001b[0;34m=\u001b[0m \u001b[0;32mNone\u001b[0m\u001b[0;34m,\u001b[0m\u001b[0;34m\u001b[0m\u001b[0;34m\u001b[0m\u001b[0m\n",
            "\u001b[0;31mNameError\u001b[0m: name 'RandomForestRegressor' is not defined"
          ]
        }
      ]
    }
  ],
  "metadata": {
    "colab": {
      "provenance": [],
      "collapsed_sections": [
        "rfw65W312R3c"
      ],
      "include_colab_link": true
    },
    "kernelspec": {
      "display_name": "Python 3",
      "name": "python3"
    },
    "language_info": {
      "name": "python"
    }
  },
  "nbformat": 4,
  "nbformat_minor": 0
}