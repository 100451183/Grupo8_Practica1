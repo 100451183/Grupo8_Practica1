{
  "nbformat": 4,
  "nbformat_minor": 0,
  "metadata": {
    "colab": {
      "provenance": [],
      "authorship_tag": "ABX9TyOODwViCEDVCTVcUVR3mYOp",
      "include_colab_link": true
    },
    "kernelspec": {
      "name": "python3",
      "display_name": "Python 3"
    },
    "language_info": {
      "name": "python"
    }
  },
  "cells": [
    {
      "cell_type": "markdown",
      "metadata": {
        "id": "view-in-github",
        "colab_type": "text"
      },
      "source": [
        "<a href=\"https://colab.research.google.com/github/100451183/Grupo8_Practica1/blob/main/Grupo8_Pr%C3%A1ctica1.ipynb\" target=\"_parent\"><img src=\"https://colab.research.google.com/assets/colab-badge.svg\" alt=\"Open In Colab\"/></a>"
      ]
    },
    {
      "cell_type": "code",
      "source": [
        "from google.colab import drive\n",
        "drive.mount('/content/gdrive')"
      ],
      "metadata": {
        "id": "_MRAiMUVdSvk"
      },
      "execution_count": null,
      "outputs": []
    },
    {
      "cell_type": "code",
      "source": [
        "import os\n",
        "os.chdir(\"/content/gdrive/MyDrive/Práctica 1 AA\")"
      ],
      "metadata": {
        "id": "zleGuPzvdTqU"
      },
      "execution_count": 6,
      "outputs": []
    },
    {
      "cell_type": "code",
      "source": [
        "import pandas\n",
        "#Primero se leen los datos\n",
        "disp_df = pandas.read_csv(\"disp_st8ns1.txt.bz2\", compression=\"bz2\", index_col=0)"
      ],
      "metadata": {
        "id": "9h10swOvdbEA"
      },
      "execution_count": 7,
      "outputs": []
    }
  ]
}