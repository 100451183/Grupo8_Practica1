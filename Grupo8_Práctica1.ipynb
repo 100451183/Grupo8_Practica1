{
  "cells": [
    {
      "cell_type": "markdown",
      "metadata": {
        "colab_type": "text",
        "id": "view-in-github"
      },
      "source": [
        "<a href=\"https://colab.research.google.com/github/100451183/Grupo8_Practica1/blob/main/Grupo8_Pr%C3%A1ctica1.ipynb\" target=\"_parent\"><img src=\"https://colab.research.google.com/assets/colab-badge.svg\" alt=\"Open In Colab\"/></a>"
      ]
    },
    {
      "cell_type": "code",
      "execution_count": 1,
      "metadata": {
        "colab": {
          "base_uri": "https://localhost:8080/"
        },
        "id": "_MRAiMUVdSvk",
        "outputId": "8ebde9e0-09e8-4f41-921b-ef03b4911b6f"
      },
      "outputs": [
        {
          "ename": "ModuleNotFoundError",
          "evalue": "No module named 'google'",
          "output_type": "error",
          "traceback": [
            "\u001b[1;31m---------------------------------------------------------------------------\u001b[0m",
            "\u001b[1;31mModuleNotFoundError\u001b[0m                       Traceback (most recent call last)",
            "Cell \u001b[1;32mIn[1], line 1\u001b[0m\n\u001b[1;32m----> 1\u001b[0m \u001b[39mfrom\u001b[39;00m \u001b[39mgoogle\u001b[39;00m\u001b[39m.\u001b[39;00m\u001b[39mcolab\u001b[39;00m \u001b[39mimport\u001b[39;00m drive\n\u001b[0;32m      2\u001b[0m drive\u001b[39m.\u001b[39mmount(\u001b[39m'\u001b[39m\u001b[39m/content/gdrive\u001b[39m\u001b[39m'\u001b[39m)\n",
            "\u001b[1;31mModuleNotFoundError\u001b[0m: No module named 'google'"
          ]
        }
      ],
      "source": [
        "from google.colab import drive\n",
        "drive.mount('/content/gdrive')"
      ]
    },
    {
      "cell_type": "code",
      "execution_count": null,
      "metadata": {
        "id": "zleGuPzvdTqU"
      },
      "outputs": [],
      "source": [
        "import os\n",
        "os.chdir(\"/content/gdrive/MyDrive/Práctica 1 AA\")"
      ]
    },
    {
      "cell_type": "code",
      "execution_count": 2,
      "metadata": {
        "colab": {
          "base_uri": "https://localhost:8080/"
        },
        "id": "9h10swOvdbEA",
        "outputId": "6e914762-6870-44c6-afe3-d9fc24973b26"
      },
      "outputs": [
        {
          "ename": "ModuleNotFoundError",
          "evalue": "No module named 'pandas'",
          "output_type": "error",
          "traceback": [
            "\u001b[1;31m---------------------------------------------------------------------------\u001b[0m",
            "\u001b[1;31mModuleNotFoundError\u001b[0m                       Traceback (most recent call last)",
            "Cell \u001b[1;32mIn[2], line 1\u001b[0m\n\u001b[1;32m----> 1\u001b[0m \u001b[39mimport\u001b[39;00m \u001b[39mpandas\u001b[39;00m\n\u001b[0;32m      2\u001b[0m \u001b[39m#Primero se leen los datos\u001b[39;00m\n\u001b[0;32m      3\u001b[0m disp_df \u001b[39m=\u001b[39m pandas\u001b[39m.\u001b[39mread_csv(\u001b[39m\"\u001b[39m\u001b[39mdisp_st8ns1.txt.bz2\u001b[39m\u001b[39m\"\u001b[39m, compression\u001b[39m=\u001b[39m\u001b[39m\"\u001b[39m\u001b[39mbz2\u001b[39m\u001b[39m\"\u001b[39m, index_col\u001b[39m=\u001b[39m\u001b[39m0\u001b[39m)\n",
            "\u001b[1;31mModuleNotFoundError\u001b[0m: No module named 'pandas'"
          ]
        }
      ],
      "source": [
        "import pandas\n",
        "#Primero se leen los datos\n",
        "disp_df = pandas.read_csv(\"disp_st8ns1.txt.bz2\", compression=\"bz2\", index_col=0)\n",
        "print(disp_df)"
      ]
    },
    {
      "cell_type": "markdown",
      "metadata": {
        "id": "YbRMLj4B8xVQ"
      },
      "source": [
        "### Análisis exploratorio de datos"
      ]
    },
    {
      "cell_type": "code",
      "execution_count": 11,
      "metadata": {
        "colab": {
          "base_uri": "https://localhost:8080/"
        },
        "id": "npZfdGFo81mm",
        "outputId": "25be30eb-87ca-4d1e-dc43-b825e3f1f2ca"
      },
      "outputs": [
        {
          "name": "stdout",
          "output_type": "stream",
          "text": [
            "        apcp_sf1_1   apcp_sf2_1   apcp_sf3_1   apcp_sf4_1   apcp_sf5_1  \\\n",
            "count  4380.000000  4380.000000  4380.000000  4380.000000  4380.000000   \n",
            "mean      0.708567     0.293943     0.525002     0.260699     0.530149   \n",
            "std       2.599816     1.211324     1.900262     1.000023     1.975711   \n",
            "min       0.000000     0.000000     0.000000     0.000000     0.000000   \n",
            "25%       0.000000     0.000000     0.000000     0.000000     0.000000   \n",
            "50%       0.000000     0.000000     0.000000     0.000000     0.000000   \n",
            "75%       0.138409     0.047500     0.140909     0.038182     0.092955   \n",
            "max      51.623637    22.934545    32.982727    15.975455    39.899091   \n",
            "\n",
            "        dlwrf_s1_1   dlwrf_s2_1   dlwrf_s3_1   dlwrf_s4_1   dlwrf_s5_1  ...  \\\n",
            "count  4380.000000  4380.000000  4380.000000  4380.000000  4380.000000  ...   \n",
            "mean    314.901998   315.658584   323.094642   342.390701   341.641629  ...   \n",
            "std      56.241545    58.376389    59.334196    61.733754    61.695498  ...   \n",
            "min     154.335406   152.760176   157.433634   175.691114   173.524779  ...   \n",
            "25%     268.206411   267.874264   274.796959   292.816105   291.259751  ...   \n",
            "50%     318.405290   319.207540   326.240827   345.789484   344.639153  ...   \n",
            "75%     364.984977   368.697012   376.999899   398.002730   396.524137  ...   \n",
            "max     422.276065   427.649256   430.104545   460.657246   461.183133  ...   \n",
            "\n",
            "        ulwrf_t2_1   ulwrf_t3_1   ulwrf_t4_1   ulwrf_t5_1   uswrf_s1_1  \\\n",
            "count  4380.000000  4380.000000  4380.000000  4380.000000  4380.000000   \n",
            "mean    244.779701   248.995312   258.995144   258.164788     0.138979   \n",
            "std      37.662362    37.157497    39.951473    39.538514     0.337704   \n",
            "min     115.091405   118.820144   109.060597   116.585080     0.000000   \n",
            "25%     227.355142   231.339967   240.989062   239.332283     0.000000   \n",
            "50%     250.098898   254.305866   267.363606   265.883269     0.000000   \n",
            "75%     273.489209   277.242391   288.239120   287.865822     0.000000   \n",
            "max     311.586634   313.781505   324.802854   325.166243     1.000000   \n",
            "\n",
            "        uswrf_s2_1   uswrf_s3_1   uswrf_s4_1   uswrf_s5_1        salida  \n",
            "count  4380.000000  4380.000000  4380.000000  4380.000000  4.380000e+03  \n",
            "mean     40.085803    77.038377   125.458012    97.172893  1.594500e+07  \n",
            "std      27.012235    32.117291    43.376068    36.612104  8.112528e+06  \n",
            "min       0.090909     2.909091     4.818182     2.727273  7.470000e+04  \n",
            "25%      14.727273    52.613636   104.909091    71.000000  9.667200e+06  \n",
            "50%      37.000000    80.318182   134.545455   102.727273  1.565535e+07  \n",
            "75%      63.750000   104.090909   154.181818   127.818182  2.299088e+07  \n",
            "max     102.000000   283.818182   483.090909   294.818182  3.170220e+07  \n",
            "\n",
            "[8 rows x 76 columns]\n"
          ]
        }
      ],
      "source": [
        "import numpy as np\n",
        "print(disp_df.describe())"
      ]
    }
  ],
  "metadata": {
    "colab": {
      "authorship_tag": "ABX9TyN2ARZ4vgfXyemBYXK54sTv",
      "include_colab_link": true,
      "provenance": []
    },
    "kernelspec": {
      "display_name": "Python 3",
      "language": "python",
      "name": "python3"
    },
    "language_info": {
      "codemirror_mode": {
        "name": "ipython",
        "version": 3
      },
      "file_extension": ".py",
      "mimetype": "text/x-python",
      "name": "python",
      "nbconvert_exporter": "python",
      "pygments_lexer": "ipython3",
      "version": "3.10.7"
    },
    "vscode": {
      "interpreter": {
        "hash": "162805d861223990fbee0972ed12f9be628b31f8b6842b220d207744051d74d5"
      }
    }
  },
  "nbformat": 4,
  "nbformat_minor": 0
}
