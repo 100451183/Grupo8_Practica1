{
  "nbformat": 4,
  "nbformat_minor": 0,
  "metadata": {
    "colab": {
      "provenance": []
    },
    "kernelspec": {
      "name": "python3",
      "display_name": "Python 3"
    },
    "language_info": {
      "name": "python"
    }
  },
  "cells": [
    {
      "cell_type": "code",
      "source": [
        "from google.colab import drive\n",
        "drive.mount('/content/gdrive')"
      ],
      "metadata": {
        "id": "_MRAiMUVdSvk",
        "colab": {
          "base_uri": "https://localhost:8080/"
        },
        "outputId": "ebf0aefe-9fb3-43c6-ad24-4d4af0357f02"
      },
      "execution_count": 1,
      "outputs": [
        {
          "output_type": "stream",
          "name": "stdout",
          "text": [
            "Mounted at /content/gdrive\n"
          ]
        }
      ]
    },
    {
      "cell_type": "code",
      "source": [
        "import os\n",
        "os.chdir(\"/content/gdrive/MyDrive/Práctica 1 AA\")"
      ],
      "metadata": {
        "id": "zleGuPzvdTqU"
      },
      "execution_count": 2,
      "outputs": []
    },
    {
      "cell_type": "code",
      "source": [
        "import pandas\n",
        "#Primero se leen los datos\n",
        "disp_df = pandas.read_csv(\"disp_st8ns1.txt.bz2\", compression=\"bz2\", index_col=0)\n",
        "print(disp_df)"
      ],
      "metadata": {
        "id": "9h10swOvdbEA",
        "colab": {
          "base_uri": "https://localhost:8080/"
        },
        "outputId": "4db02b1e-185a-4c80-947d-30fc19e44801"
      },
      "execution_count": 3,
      "outputs": [
        {
          "output_type": "stream",
          "name": "stdout",
          "text": [
            "       apcp_sf1_1  apcp_sf2_1  apcp_sf3_1  apcp_sf4_1  apcp_sf5_1  dlwrf_s1_1  \\\n",
            "V1       0.000000    0.000000    0.000000    0.000000    0.000000  276.583582   \n",
            "V2       0.000000    0.000000    0.011818    0.037273    0.543636  249.089505   \n",
            "V3       0.014545    0.000000    0.000000    0.000000    0.002727  229.461820   \n",
            "V4       0.000000    0.009091    0.000000    0.000000    0.000000  239.590321   \n",
            "V5       0.000000    0.000000    0.000000    0.000000    0.000000  230.253657   \n",
            "...           ...         ...         ...         ...         ...         ...   \n",
            "V4376    0.000909    0.114545    0.352727    0.882727    1.379091  284.532288   \n",
            "V4377    0.000909    0.000000    0.000000    0.000000    0.000000  251.460183   \n",
            "V4378    0.000000    0.000000    0.000000    0.000000    0.000000  268.446164   \n",
            "V4379    0.000000    0.000000    0.000000    0.000000    0.000000  268.225686   \n",
            "V4380    0.000000    0.000000    0.000000    0.000000    0.000000  268.385348   \n",
            "\n",
            "       dlwrf_s2_1  dlwrf_s3_1  dlwrf_s4_1  dlwrf_s5_1  ...  ulwrf_t2_1  \\\n",
            "V1     246.514368  251.629031  264.832217  262.468350  ...  249.504475   \n",
            "V2     282.460488  297.254822  315.532651  310.292719  ...  200.094627   \n",
            "V3     215.177840  218.042184  245.620031  246.749223  ...  232.556009   \n",
            "V4     261.169269  271.857217  258.001828  247.076775  ...  235.189503   \n",
            "V5     235.563414  243.941731  266.031791  269.572826  ...  230.797569   \n",
            "...           ...         ...         ...         ...  ...         ...   \n",
            "V4376  277.760515  293.636938  337.863753  330.097956  ...  236.348444   \n",
            "V4377  244.463848  248.985195  266.057689  265.432201  ...  243.310976   \n",
            "V4378  271.475733  274.081410  287.933849  284.624115  ...  221.705779   \n",
            "V4379  263.890245  271.744013  291.337566  291.260448  ...  257.707263   \n",
            "V4380  265.254364  271.679615  291.476737  288.541684  ...  241.352363   \n",
            "\n",
            "       ulwrf_t3_1  ulwrf_t4_1  ulwrf_t5_1  uswrf_s1_1  uswrf_s2_1  uswrf_s3_1  \\\n",
            "V1     251.942089  258.069677  254.249663         0.0    9.181818   49.000000   \n",
            "V2     202.663639  196.833872  202.962007         0.0    4.545455   19.000000   \n",
            "V3     233.298932  211.631876  210.620375         0.0   13.909091   77.636364   \n",
            "V4     236.216754  244.018491  239.049223         0.0    5.454545   28.909091   \n",
            "V5     233.680077  252.037280  246.291591         0.0    9.000000   47.181818   \n",
            "...           ...         ...         ...         ...         ...         ...   \n",
            "V4376  224.870748  175.644218  190.153040         0.0    6.818182   28.545455   \n",
            "V4377  248.244164  263.429332  260.205636         0.0   10.000000   50.090909   \n",
            "V4378  236.372099  273.823583  274.388403         0.0    7.909091   46.909091   \n",
            "V4379  254.163126  281.832139  277.711556         0.0    9.727273   48.181818   \n",
            "V4380  245.428872  257.719322  257.394481         0.0    9.000000   47.000000   \n",
            "\n",
            "       uswrf_s4_1  uswrf_s5_1    salida  \n",
            "V1     103.000000   68.000000  11182800  \n",
            "V2      47.272727   32.909091   3963300  \n",
            "V3     141.090909   90.454545   4512600  \n",
            "V4      90.818182   62.636364   3212700  \n",
            "V5     102.272727   67.636364   9566100  \n",
            "...           ...         ...       ...  \n",
            "V4376   27.181818   18.727273   9043968  \n",
            "V4377  104.545455   68.454545   9043968  \n",
            "V4378  102.000000   67.000000   9043968  \n",
            "V4379  104.909091   68.818182   9043968  \n",
            "V4380   98.636364   64.818182   9043968  \n",
            "\n",
            "[4380 rows x 76 columns]\n"
          ]
        }
      ]
    },
    {
      "cell_type": "markdown",
      "source": [
        "### Análisis exploratorio de datos"
      ],
      "metadata": {
        "id": "YbRMLj4B8xVQ"
      }
    },
    {
      "cell_type": "code",
      "source": [
        "import numpy as np\n",
        "import pandas as pd\n",
        "import seaborn as sns\n",
        "import matplotlib.pyplot as plt"
      ],
      "metadata": {
        "id": "npZfdGFo81mm"
      },
      "execution_count": 5,
      "outputs": []
    },
    {
      "cell_type": "code",
      "source": [
        "# Se muestra el contenido del dataframe\n",
        "disp_df.info()"
      ],
      "metadata": {
        "colab": {
          "base_uri": "https://localhost:8080/"
        },
        "id": "REpqh3WGW7r9",
        "outputId": "1c7c633b-fba3-44bf-f17b-a192d632788b"
      },
      "execution_count": 14,
      "outputs": [
        {
          "output_type": "stream",
          "name": "stdout",
          "text": [
            "<class 'pandas.core.frame.DataFrame'>\n",
            "Index: 4380 entries, V1 to V4380\n",
            "Data columns (total 76 columns):\n",
            " #   Column      Non-Null Count  Dtype  \n",
            "---  ------      --------------  -----  \n",
            " 0   apcp_sf1_1  4380 non-null   float64\n",
            " 1   apcp_sf2_1  4380 non-null   float64\n",
            " 2   apcp_sf3_1  4380 non-null   float64\n",
            " 3   apcp_sf4_1  4380 non-null   float64\n",
            " 4   apcp_sf5_1  4380 non-null   float64\n",
            " 5   dlwrf_s1_1  4380 non-null   float64\n",
            " 6   dlwrf_s2_1  4380 non-null   float64\n",
            " 7   dlwrf_s3_1  4380 non-null   float64\n",
            " 8   dlwrf_s4_1  4380 non-null   float64\n",
            " 9   dlwrf_s5_1  4380 non-null   float64\n",
            " 10  dswrf_s1_1  4380 non-null   float64\n",
            " 11  dswrf_s2_1  4380 non-null   float64\n",
            " 12  dswrf_s3_1  4380 non-null   float64\n",
            " 13  dswrf_s4_1  4380 non-null   float64\n",
            " 14  dswrf_s5_1  4380 non-null   float64\n",
            " 15  pres_ms1_1  4380 non-null   float64\n",
            " 16  pres_ms2_1  4380 non-null   float64\n",
            " 17  pres_ms3_1  4380 non-null   float64\n",
            " 18  pres_ms4_1  4380 non-null   float64\n",
            " 19  pres_ms5_1  4380 non-null   float64\n",
            " 20  pwat_ea1_1  4380 non-null   float64\n",
            " 21  pwat_ea2_1  4380 non-null   float64\n",
            " 22  pwat_ea3_1  4380 non-null   float64\n",
            " 23  pwat_ea4_1  4380 non-null   float64\n",
            " 24  pwat_ea5_1  4380 non-null   float64\n",
            " 25  spfh_2m1_1  4380 non-null   float64\n",
            " 26  spfh_2m2_1  4380 non-null   float64\n",
            " 27  spfh_2m3_1  4380 non-null   float64\n",
            " 28  spfh_2m4_1  4380 non-null   float64\n",
            " 29  spfh_2m5_1  4380 non-null   float64\n",
            " 30  tcdc_ea1_1  4380 non-null   float64\n",
            " 31  tcdc_ea2_1  4380 non-null   float64\n",
            " 32  tcdc_ea3_1  4380 non-null   float64\n",
            " 33  tcdc_ea4_1  4380 non-null   float64\n",
            " 34  tcdc_ea5_1  4380 non-null   float64\n",
            " 35  tcolc_e1_1  4380 non-null   float64\n",
            " 36  tcolc_e2_1  4380 non-null   float64\n",
            " 37  tcolc_e3_1  4380 non-null   float64\n",
            " 38  tcolc_e4_1  4380 non-null   float64\n",
            " 39  tcolc_e5_1  4380 non-null   float64\n",
            " 40  tmax_2m1_1  4380 non-null   float64\n",
            " 41  tmax_2m2_1  4380 non-null   float64\n",
            " 42  tmax_2m3_1  4380 non-null   float64\n",
            " 43  tmax_2m4_1  4380 non-null   float64\n",
            " 44  tmax_2m5_1  4380 non-null   float64\n",
            " 45  tmin_2m1_1  4380 non-null   float64\n",
            " 46  tmin_2m2_1  4380 non-null   float64\n",
            " 47  tmin_2m3_1  4380 non-null   float64\n",
            " 48  tmin_2m4_1  4380 non-null   float64\n",
            " 49  tmin_2m5_1  4380 non-null   float64\n",
            " 50  tmp_2m_1_1  4380 non-null   float64\n",
            " 51  tmp_2m_2_1  4380 non-null   float64\n",
            " 52  tmp_2m_3_1  4380 non-null   float64\n",
            " 53  tmp_2m_4_1  4380 non-null   float64\n",
            " 54  tmp_2m_5_1  4380 non-null   float64\n",
            " 55  tmp_sfc1_1  4380 non-null   float64\n",
            " 56  tmp_sfc2_1  4380 non-null   float64\n",
            " 57  tmp_sfc3_1  4380 non-null   float64\n",
            " 58  tmp_sfc4_1  4380 non-null   float64\n",
            " 59  tmp_sfc5_1  4380 non-null   float64\n",
            " 60  ulwrf_s1_1  4380 non-null   float64\n",
            " 61  ulwrf_s2_1  4380 non-null   float64\n",
            " 62  ulwrf_s3_1  4380 non-null   float64\n",
            " 63  ulwrf_s4_1  4380 non-null   float64\n",
            " 64  ulwrf_s5_1  4380 non-null   float64\n",
            " 65  ulwrf_t1_1  4380 non-null   float64\n",
            " 66  ulwrf_t2_1  4380 non-null   float64\n",
            " 67  ulwrf_t3_1  4380 non-null   float64\n",
            " 68  ulwrf_t4_1  4380 non-null   float64\n",
            " 69  ulwrf_t5_1  4380 non-null   float64\n",
            " 70  uswrf_s1_1  4380 non-null   float64\n",
            " 71  uswrf_s2_1  4380 non-null   float64\n",
            " 72  uswrf_s3_1  4380 non-null   float64\n",
            " 73  uswrf_s4_1  4380 non-null   float64\n",
            " 74  uswrf_s5_1  4380 non-null   float64\n",
            " 75  salida      4380 non-null   int64  \n",
            "dtypes: float64(75), int64(1)\n",
            "memory usage: 2.7+ MB\n"
          ]
        }
      ]
    },
    {
      "cell_type": "code",
      "source": [
        "# Se visualiza una muestra aleatoria de los datos\n",
        "print(disp_df.sample(6))"
      ],
      "metadata": {
        "colab": {
          "base_uri": "https://localhost:8080/"
        },
        "id": "_gL3i0dVVfjr",
        "outputId": "ecac3298-fcc8-4d0d-e23c-67f90d53222c"
      },
      "execution_count": 19,
      "outputs": [
        {
          "output_type": "stream",
          "name": "stdout",
          "text": [
            "       apcp_sf1_1  apcp_sf2_1  apcp_sf3_1  apcp_sf4_1  apcp_sf5_1  dlwrf_s1_1  \\\n",
            "V193     0.000000    0.000000    0.000000    0.000000    0.000000  361.958185   \n",
            "V1942    0.150909    0.315455    2.774545    4.489091    4.753636  349.253412   \n",
            "V1558    0.013636    0.000000    0.000000    0.000909    0.017273  305.462397   \n",
            "V611     0.000000    0.000000    0.000000    0.000000    0.000000  411.392578   \n",
            "V2636    0.000000    0.000000    0.000000    0.000000    0.000000  249.039739   \n",
            "V2750    0.000000    0.000000    0.000000    0.000000    0.000000  401.800262   \n",
            "\n",
            "       dlwrf_s2_1  dlwrf_s3_1  dlwrf_s4_1  dlwrf_s5_1  ...  ulwrf_t2_1  \\\n",
            "V193   367.131525  378.504433  403.930120  405.723907  ...  297.760318   \n",
            "V1942  380.540397  383.369066  369.950803  359.001459  ...  195.612058   \n",
            "V1558  278.910137  288.341947  320.388320  321.200226  ...  274.198428   \n",
            "V611   399.067854  404.152419  424.176594  423.387451  ...  215.382808   \n",
            "V2636  246.936257  255.421702  275.560772  274.725436  ...  243.791082   \n",
            "V2750  398.087674  408.284296  438.361359  444.683813  ...  289.538116   \n",
            "\n",
            "       ulwrf_t3_1  ulwrf_t4_1  ulwrf_t5_1  uswrf_s1_1  uswrf_s2_1  uswrf_s3_1  \\\n",
            "V193   300.209639  305.155199  305.207095         1.0   82.181818  117.818182   \n",
            "V1942  175.718258  167.695669  183.583461         0.0   19.363636   24.181818   \n",
            "V1558  278.769978  285.509164  284.027888         0.0   59.818182  102.363636   \n",
            "V611   232.315076  268.323696  271.380977         0.0   32.636364   67.909091   \n",
            "V2636  253.864985  276.286183  274.000560         0.0   44.000000   91.000000   \n",
            "V2750  291.950206  294.714092  280.367495         1.0   79.454545  114.545455   \n",
            "\n",
            "       uswrf_s4_1  uswrf_s5_1    salida  \n",
            "V193   163.181818  140.454545  26640900  \n",
            "V1942   51.545455   59.818182  10681500  \n",
            "V1558  149.181818  122.181818  24756300  \n",
            "V611   113.000000   92.545455  14888100  \n",
            "V2636  151.181818  122.090909  22758900  \n",
            "V2750  157.454545  124.545455  27327600  \n",
            "\n",
            "[6 rows x 76 columns]\n"
          ]
        }
      ]
    },
    {
      "cell_type": "code",
      "source": [
        "# Se visualizan los 9 primeros registros de datos\n",
        "print(disp_df.head(9))"
      ],
      "metadata": {
        "colab": {
          "base_uri": "https://localhost:8080/"
        },
        "id": "UJVU40JFX2Ui",
        "outputId": "ebb28baf-313e-4e8f-b0cf-42a989880682"
      },
      "execution_count": 17,
      "outputs": [
        {
          "output_type": "stream",
          "name": "stdout",
          "text": [
            "    apcp_sf1_1  apcp_sf2_1  apcp_sf3_1  apcp_sf4_1  apcp_sf5_1  dlwrf_s1_1  \\\n",
            "V1    0.000000    0.000000    0.000000    0.000000    0.000000  276.583582   \n",
            "V2    0.000000    0.000000    0.011818    0.037273    0.543636  249.089505   \n",
            "V3    0.014545    0.000000    0.000000    0.000000    0.002727  229.461820   \n",
            "V4    0.000000    0.009091    0.000000    0.000000    0.000000  239.590321   \n",
            "V5    0.000000    0.000000    0.000000    0.000000    0.000000  230.253657   \n",
            "V6    0.000000    0.000000    0.000000    0.003636    0.022727  262.650191   \n",
            "V7    0.000000    0.000000    0.000000    0.000000    0.000000  241.442841   \n",
            "V8    0.000000    0.000000    0.000000    0.000000    0.000000  208.358092   \n",
            "V9    0.000000    0.000000    0.000000    0.000000    0.001818  224.955149   \n",
            "\n",
            "    dlwrf_s2_1  dlwrf_s3_1  dlwrf_s4_1  dlwrf_s5_1  ...  ulwrf_t2_1  \\\n",
            "V1  246.514368  251.629031  264.832217  262.468350  ...  249.504475   \n",
            "V2  282.460488  297.254822  315.532651  310.292719  ...  200.094627   \n",
            "V3  215.177840  218.042184  245.620031  246.749223  ...  232.556009   \n",
            "V4  261.169269  271.857217  258.001828  247.076775  ...  235.189503   \n",
            "V5  235.563414  243.941731  266.031791  269.572826  ...  230.797569   \n",
            "V6  248.044478  249.539172  272.454154  273.924810  ...  250.578609   \n",
            "V7  192.726131  192.572098  200.389716  200.963344  ...  219.090410   \n",
            "V8  212.362258  217.381370  234.202535  233.763586  ...  216.623674   \n",
            "V9  226.373752  232.214730  257.808203  260.425454  ...  210.232777   \n",
            "\n",
            "    ulwrf_t3_1  ulwrf_t4_1  ulwrf_t5_1  uswrf_s1_1  uswrf_s2_1  uswrf_s3_1  \\\n",
            "V1  251.942089  258.069677  254.249663         0.0    9.181818   49.000000   \n",
            "V2  202.663639  196.833872  202.962007         0.0    4.545455   19.000000   \n",
            "V3  233.298932  211.631876  210.620375         0.0   13.909091   77.636364   \n",
            "V4  236.216754  244.018491  239.049223         0.0    5.454545   28.909091   \n",
            "V5  233.680077  252.037280  246.291591         0.0    9.000000   47.181818   \n",
            "V6  250.663503  248.251383  242.390524         0.0    9.000000   47.727273   \n",
            "V7  222.542429  238.236937  236.541131         0.0   10.000000   52.454545   \n",
            "V8  223.255726  244.567512  242.254783         0.0    9.818182   50.000000   \n",
            "V9  210.605007  200.433924  201.851872         0.0    8.000000   45.363636   \n",
            "\n",
            "    uswrf_s4_1  uswrf_s5_1    salida  \n",
            "V1  103.000000   68.000000  11182800  \n",
            "V2   47.272727   32.909091   3963300  \n",
            "V3  141.090909   90.454545   4512600  \n",
            "V4   90.818182   62.636364   3212700  \n",
            "V5  102.272727   67.636364   9566100  \n",
            "V6   86.181818   53.181818   6137100  \n",
            "V7  112.545455   76.272727  12175200  \n",
            "V8  108.272727   73.000000  12217500  \n",
            "V9   94.727273   61.363636  10443300  \n",
            "\n",
            "[9 rows x 76 columns]\n"
          ]
        }
      ]
    },
    {
      "cell_type": "code",
      "source": [
        "# Número de filas y columnas del conjunto de datos\n",
        "print(disp_df.shape)\n",
        "\n",
        "# Tipos de las variables\n",
        "print(disp_df.dtypes)"
      ],
      "metadata": {
        "colab": {
          "base_uri": "https://localhost:8080/"
        },
        "id": "Cgn-9tRcWBpg",
        "outputId": "49765f24-e0d6-4385-fd9c-70776cbaac32"
      },
      "execution_count": 13,
      "outputs": [
        {
          "output_type": "stream",
          "name": "stdout",
          "text": [
            "(4380, 76)\n",
            "apcp_sf1_1    float64\n",
            "apcp_sf2_1    float64\n",
            "apcp_sf3_1    float64\n",
            "apcp_sf4_1    float64\n",
            "apcp_sf5_1    float64\n",
            "               ...   \n",
            "uswrf_s2_1    float64\n",
            "uswrf_s3_1    float64\n",
            "uswrf_s4_1    float64\n",
            "uswrf_s5_1    float64\n",
            "salida          int64\n",
            "Length: 76, dtype: object\n"
          ]
        }
      ]
    },
    {
      "cell_type": "code",
      "source": [
        "# Observar valores nulos. En esta primera sentencia se observan en una tabla\n",
        "# valores booleanos que especifican si ese campo es nulo.\n",
        "print(disp_df.isnull())\n",
        "\n",
        "# Se contabilizan los valores nulos.\n",
        "print(disp_df.isnull().sum())"
      ],
      "metadata": {
        "colab": {
          "base_uri": "https://localhost:8080/"
        },
        "id": "DzD4aZX8YqMh",
        "outputId": "0dc847a1-214e-476b-e263-347152752446"
      },
      "execution_count": 24,
      "outputs": [
        {
          "output_type": "stream",
          "name": "stdout",
          "text": [
            "       apcp_sf1_1  apcp_sf2_1  apcp_sf3_1  apcp_sf4_1  apcp_sf5_1  dlwrf_s1_1  \\\n",
            "V1          False       False       False       False       False       False   \n",
            "V2          False       False       False       False       False       False   \n",
            "V3          False       False       False       False       False       False   \n",
            "V4          False       False       False       False       False       False   \n",
            "V5          False       False       False       False       False       False   \n",
            "...           ...         ...         ...         ...         ...         ...   \n",
            "V4376       False       False       False       False       False       False   \n",
            "V4377       False       False       False       False       False       False   \n",
            "V4378       False       False       False       False       False       False   \n",
            "V4379       False       False       False       False       False       False   \n",
            "V4380       False       False       False       False       False       False   \n",
            "\n",
            "       dlwrf_s2_1  dlwrf_s3_1  dlwrf_s4_1  dlwrf_s5_1  ...  ulwrf_t2_1  \\\n",
            "V1          False       False       False       False  ...       False   \n",
            "V2          False       False       False       False  ...       False   \n",
            "V3          False       False       False       False  ...       False   \n",
            "V4          False       False       False       False  ...       False   \n",
            "V5          False       False       False       False  ...       False   \n",
            "...           ...         ...         ...         ...  ...         ...   \n",
            "V4376       False       False       False       False  ...       False   \n",
            "V4377       False       False       False       False  ...       False   \n",
            "V4378       False       False       False       False  ...       False   \n",
            "V4379       False       False       False       False  ...       False   \n",
            "V4380       False       False       False       False  ...       False   \n",
            "\n",
            "       ulwrf_t3_1  ulwrf_t4_1  ulwrf_t5_1  uswrf_s1_1  uswrf_s2_1  uswrf_s3_1  \\\n",
            "V1          False       False       False       False       False       False   \n",
            "V2          False       False       False       False       False       False   \n",
            "V3          False       False       False       False       False       False   \n",
            "V4          False       False       False       False       False       False   \n",
            "V5          False       False       False       False       False       False   \n",
            "...           ...         ...         ...         ...         ...         ...   \n",
            "V4376       False       False       False       False       False       False   \n",
            "V4377       False       False       False       False       False       False   \n",
            "V4378       False       False       False       False       False       False   \n",
            "V4379       False       False       False       False       False       False   \n",
            "V4380       False       False       False       False       False       False   \n",
            "\n",
            "       uswrf_s4_1  uswrf_s5_1  salida  \n",
            "V1          False       False   False  \n",
            "V2          False       False   False  \n",
            "V3          False       False   False  \n",
            "V4          False       False   False  \n",
            "V5          False       False   False  \n",
            "...           ...         ...     ...  \n",
            "V4376       False       False   False  \n",
            "V4377       False       False   False  \n",
            "V4378       False       False   False  \n",
            "V4379       False       False   False  \n",
            "V4380       False       False   False  \n",
            "\n",
            "[4380 rows x 76 columns]\n",
            "apcp_sf1_1    0\n",
            "apcp_sf2_1    0\n",
            "apcp_sf3_1    0\n",
            "apcp_sf4_1    0\n",
            "apcp_sf5_1    0\n",
            "             ..\n",
            "uswrf_s2_1    0\n",
            "uswrf_s3_1    0\n",
            "uswrf_s4_1    0\n",
            "uswrf_s5_1    0\n",
            "salida        0\n",
            "Length: 76, dtype: int64\n"
          ]
        }
      ]
    }
  ]
}