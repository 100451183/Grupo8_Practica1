{
 "cells": [
  {
   "attachments": {},
   "cell_type": "markdown",
   "metadata": {},
   "source": [
    "# Competicion\n",
    "Autores: Joaquín García Pozo 100451183\n",
    "         Andrés Rodríguez García 100451253"
   ]
  },
  {
   "attachments": {},
   "cell_type": "markdown",
   "metadata": {},
   "source": [
    "Primero se importan los datos de competición y se normalizan"
   ]
  },
  {
   "cell_type": "code",
   "execution_count": 17,
   "metadata": {},
   "outputs": [],
   "source": [
    "import pandas as pd\n",
    "from sklearn.preprocessing import MinMaxScaler\n",
    "\n",
    "comp_df = pd.read_csv(\"comp_st8ns1.txt.bz2\",\n",
    " compression=\"bz2\",\n",
    "index_col=0)\n",
    "\n",
    "scaler = MinMaxScaler()\n",
    "df_comp_normalized = scaler.fit_transform(comp_df)\n",
    "df_normalized2 = pd.DataFrame(df_comp_normalized, columns=comp_df.columns)"
   ]
  },
  {
   "attachments": {},
   "cell_type": "markdown",
   "metadata": {},
   "source": [
    "Se abre el fichero con el modelo final y se realiza la predicción"
   ]
  },
  {
   "cell_type": "code",
   "execution_count": 18,
   "metadata": {},
   "outputs": [],
   "source": [
    "import pickle\n",
    "\n",
    "# Abrir archivo\n",
    "with open('modelo_final.pkl', 'rb') as f:\n",
    "    modelo_final = pickle.load(f)\n",
    "\n",
    "# Usar el modelo cargado\n",
    "prediccion = modelo_final.predict(df_normalized2)"
   ]
  },
  {
   "attachments": {},
   "cell_type": "markdown",
   "metadata": {},
   "source": [
    "Por último se cargan las predicciones en un archivo .csv"
   ]
  },
  {
   "cell_type": "code",
   "execution_count": 19,
   "metadata": {},
   "outputs": [],
   "source": [
    "pred_df = pd.DataFrame(prediccion, columns=['Predicción'])\n",
    "pred_df.to_csv('predicciones.csv', index=False)"
   ]
  }
 ],
 "metadata": {
  "kernelspec": {
   "display_name": "Python 3",
   "language": "python",
   "name": "python3"
  },
  "language_info": {
   "codemirror_mode": {
    "name": "ipython",
    "version": 3
   },
   "file_extension": ".py",
   "mimetype": "text/x-python",
   "name": "python",
   "nbconvert_exporter": "python",
   "pygments_lexer": "ipython3",
   "version": "3.11.2"
  },
  "orig_nbformat": 4
 },
 "nbformat": 4,
 "nbformat_minor": 2
}
