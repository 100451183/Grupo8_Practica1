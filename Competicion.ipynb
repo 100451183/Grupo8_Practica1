{
 "cells": [
  {
   "attachments": {},
   "cell_type": "markdown",
   "metadata": {},
   "source": [
    "# Competicion"
   ]
  },
  {
   "attachments": {},
   "cell_type": "markdown",
   "metadata": {},
   "source": [
    "Primero se importan los datos de competición"
   ]
  },
  {
   "cell_type": "code",
   "execution_count": 14,
   "metadata": {},
   "outputs": [],
   "source": [
    "import pandas as pd\n",
    "from sklearn.preprocessing import MinMaxScaler\n",
    "\n",
    "comp_df = pd.read_csv(\"comp_st8ns1.txt.bz2\",\n",
    " compression=\"bz2\",\n",
    "index_col=0)\n",
    "\n",
    "scaler = MinMaxScaler()\n",
    "df_comp_normalized = scaler.fit_transform(comp_df)\n",
    "df_normalized2 = pd.DataFrame(df_comp_normalized, columns=comp_df.columns)"
   ]
  },
  {
   "cell_type": "code",
   "execution_count": 15,
   "metadata": {},
   "outputs": [],
   "source": [
    "import pickle\n",
    "\n",
    "# Abrir archivo\n",
    "with open('modelo_final.pkl', 'rb') as f:\n",
    "    modelo_final = pickle.load(f)\n",
    "\n",
    "# Usar el modelo cargado\n",
    "prediccion = modelo_final.predict(df_normalized2)"
   ]
  },
  {
   "cell_type": "code",
   "execution_count": 16,
   "metadata": {},
   "outputs": [],
   "source": [
    "pred_df = pd.DataFrame(prediccion, columns=['Predicción'])\n",
    "pred_df.to_csv('predicciones.csv', index=False)"
   ]
  }
 ],
 "metadata": {
  "kernelspec": {
   "display_name": "Python 3",
   "language": "python",
   "name": "python3"
  },
  "language_info": {
   "codemirror_mode": {
    "name": "ipython",
    "version": 3
   },
   "file_extension": ".py",
   "mimetype": "text/x-python",
   "name": "python",
   "nbconvert_exporter": "python",
   "pygments_lexer": "ipython3",
   "version": "3.11.2"
  },
  "orig_nbformat": 4
 },
 "nbformat": 4,
 "nbformat_minor": 2
}
